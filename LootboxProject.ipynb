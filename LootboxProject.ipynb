{
 "cells": [
  {
   "attachments": {},
   "cell_type": "markdown",
   "id": "836d1d3b-45ae-4c7c-8e16-6d1d26411bc1",
   "metadata": {},
   "source": [
    "# Lootbox Game in Python"
   ]
  },
  {
   "attachments": {},
   "cell_type": "markdown",
   "id": "d632adec-b5e0-4221-9a97-8e8e69d336c6",
   "metadata": {},
   "source": [
    "## Part 1 - The main game\n",
    "\n",
    "This project contains a script that has all the features the game has to offer"
   ]
  },
  {
   "cell_type": "code",
   "execution_count": 1,
   "id": "2797b3a5-2e7a-416d-9a63-8fa8b5cbc756",
   "metadata": {},
   "outputs": [],
   "source": [
    "from game import *\n",
    "\n",
    "#start_game()"
   ]
  },
  {
   "cell_type": "code",
   "execution_count": 2,
   "id": "5dcf56f7-90df-46e1-9822-509744cc092c",
   "metadata": {},
   "outputs": [],
   "source": [
    "#command = input('> ')\n",
    "#print(command)"
   ]
  },
  {
   "attachments": {},
   "cell_type": "markdown",
   "id": "7c2bfdf7-c5f6-4d1e-9b73-41791510e52b",
   "metadata": {},
   "source": [
    "## How does it work?"
   ]
  },
  {
   "attachments": {},
   "cell_type": "markdown",
   "id": "eaef6f4c-b0c9-4ac1-9a19-f0add7508b71",
   "metadata": {},
   "source": [
    "### Part 1: Classes"
   ]
  },
  {
   "attachments": {},
   "cell_type": "markdown",
   "id": "72425113-500d-48da-b5fb-0f4ec88b5496",
   "metadata": {},
   "source": [
    "There are two main classes that make up for most features of this game:\n",
    "\n",
    "1. Player\n",
    "2. Item"
   ]
  },
  {
   "attachments": {},
   "cell_type": "markdown",
   "id": "8b452701-f10a-4aaa-86f4-76d991042394",
   "metadata": {},
   "source": [
    "The player class handles all the data from the user: the inventory which holds the item objects and the currency."
   ]
  },
  {
   "cell_type": "code",
   "execution_count": 3,
   "id": "46429f16-0c61-4411-ab2f-23b8766f7e6d",
   "metadata": {},
   "outputs": [],
   "source": [
    "from modules.classes import *\n",
    "from simulation import simulate\n",
    "import modules.lootbox_functions as lootbox"
   ]
  },
  {
   "cell_type": "code",
   "execution_count": 4,
   "id": "283c7fb6-d86b-4caf-913b-e1c686485853",
   "metadata": {},
   "outputs": [],
   "source": [
    "player = Player()"
   ]
  },
  {
   "attachments": {},
   "cell_type": "markdown",
   "id": "3952fdfe-fa6c-410e-bd93-5862c8a643b0",
   "metadata": {},
   "source": [
    "The Player class is designed to be initialized with no input because it represents a new collection of data. However, you can \"import\" data by initializing the Player class with inputs."
   ]
  },
  {
   "cell_type": "code",
   "execution_count": 5,
   "id": "4ce324af-5f77-450d-a7f2-bd9d6ffb3c0e",
   "metadata": {},
   "outputs": [],
   "source": [
    "existing_player = Player(item_inventory = [Item(name = 'sword', rarity = 5, value = 360)], currency = 540)"
   ]
  },
  {
   "attachments": {},
   "cell_type": "markdown",
   "id": "5ab68067-cecd-4dad-b426-1e5122a6ccb7",
   "metadata": {},
   "source": [
    "The Player class has multiple methods to print information to the console as well as methods to save data."
   ]
  },
  {
   "cell_type": "code",
   "execution_count": 6,
   "id": "739b4495-ddbc-4c93-b4f3-8b372e12c38f",
   "metadata": {},
   "outputs": [
    {
     "name": "stdout",
     "output_type": "stream",
     "text": [
      "sword\n"
     ]
    }
   ],
   "source": [
    "existing_player.print_item_inventory()"
   ]
  },
  {
   "cell_type": "code",
   "execution_count": 7,
   "id": "9300da2c-9e98-4761-859e-01e7984b097e",
   "metadata": {},
   "outputs": [
    {
     "name": "stdout",
     "output_type": "stream",
     "text": [
      "common item\n",
      "common item\n",
      "uncommon item\n",
      "common item\n",
      "common item\n",
      "no boxes\n"
     ]
    }
   ],
   "source": [
    "for i in range(0, 5):\n",
    "    player.add_item(lootbox.common())\n",
    "\n",
    "player.print_item_inventory()\n",
    "player.print_box_inventory()"
   ]
  },
  {
   "cell_type": "code",
   "execution_count": 8,
   "id": "f2c773cb-4b3c-4bed-b09c-dae288ca0252",
   "metadata": {},
   "outputs": [],
   "source": [
    "#player.add_box('common box')"
   ]
  },
  {
   "cell_type": "code",
   "execution_count": 9,
   "id": "78a24d19-569e-4c06-9e5d-f67cd7c114c5",
   "metadata": {},
   "outputs": [
    {
     "name": "stdout",
     "output_type": "stream",
     "text": [
      " saved to savedata.dat\n"
     ]
    }
   ],
   "source": [
    "player.save()"
   ]
  },
  {
   "cell_type": "code",
   "execution_count": 10,
   "id": "3068c8b7-9d86-4ff8-9ba4-54208d1f48a9",
   "metadata": {},
   "outputs": [
    {
     "data": {
      "text/html": [
       "<pre style=\"white-space:pre;overflow-x:auto;line-height:normal;font-family:Menlo,'DejaVu Sans Mono',consolas,'Courier New',monospace\"><span style=\"font-style: italic\">      Lootbox Shop       </span>\n",
       "┏━━━━━━━━━━━━━━━┳━━━━━━━┓\n",
       "┃<span style=\"font-weight: bold\"> Item          </span>┃<span style=\"font-weight: bold\"> Price </span>┃\n",
       "┡━━━━━━━━━━━━━━━╇━━━━━━━┩\n",
       "│ Common Box    │<span style=\"color: #008000; text-decoration-color: #008000\"> 10    </span>│\n",
       "│<span style=\"color: #008080; text-decoration-color: #008080\"> Uncommon Box  </span>│<span style=\"color: #008080; text-decoration-color: #008080\"> 20    </span>│\n",
       "│<span style=\"color: #808000; text-decoration-color: #808000\"> Rare Box      </span>│<span style=\"color: #808000; text-decoration-color: #808000\"> 50    </span>│\n",
       "│<span style=\"color: #800000; text-decoration-color: #800000\"> Legendary Box </span>│<span style=\"color: #800000; text-decoration-color: #800000\"> 100   </span>│\n",
       "└───────────────┴───────┘\n",
       "</pre>\n"
      ],
      "text/plain": [
       "\u001b[3m      Lootbox Shop       \u001b[0m\n",
       "┏━━━━━━━━━━━━━━━┳━━━━━━━┓\n",
       "┃\u001b[1m \u001b[0m\u001b[1mItem         \u001b[0m\u001b[1m \u001b[0m┃\u001b[1m \u001b[0m\u001b[1mPrice\u001b[0m\u001b[1m \u001b[0m┃\n",
       "┡━━━━━━━━━━━━━━━╇━━━━━━━┩\n",
       "│ Common Box    │\u001b[32m \u001b[0m\u001b[32m10   \u001b[0m\u001b[32m \u001b[0m│\n",
       "│\u001b[36m \u001b[0m\u001b[36mUncommon Box \u001b[0m\u001b[36m \u001b[0m│\u001b[36m \u001b[0m\u001b[36m20   \u001b[0m\u001b[36m \u001b[0m│\n",
       "│\u001b[33m \u001b[0m\u001b[33mRare Box     \u001b[0m\u001b[33m \u001b[0m│\u001b[33m \u001b[0m\u001b[33m50   \u001b[0m\u001b[33m \u001b[0m│\n",
       "│\u001b[31m \u001b[0m\u001b[31mLegendary Box\u001b[0m\u001b[31m \u001b[0m│\u001b[31m \u001b[0m\u001b[31m100  \u001b[0m\u001b[31m \u001b[0m│\n",
       "└───────────────┴───────┘\n"
      ]
     },
     "metadata": {},
     "output_type": "display_data"
    }
   ],
   "source": [
    "lootbox.show_shop()"
   ]
  },
  {
   "cell_type": "code",
   "execution_count": 11,
   "id": "8b6ada52-932c-4ec8-adcc-e93d77363c25",
   "metadata": {},
   "outputs": [],
   "source": [
    "player.add_currency(50)"
   ]
  },
  {
   "cell_type": "code",
   "execution_count": 12,
   "id": "a82dafdb-eb59-4c86-aad1-ebd74d537596",
   "metadata": {},
   "outputs": [],
   "source": [
    "player.purchase_box(lootbox.get_box('common'))"
   ]
  },
  {
   "cell_type": "code",
   "execution_count": 13,
   "id": "123c0465-5cb8-43f2-a9cd-697ca15d00c4",
   "metadata": {},
   "outputs": [
    {
     "name": "stdout",
     "output_type": "stream",
     "text": [
      "common\n"
     ]
    }
   ],
   "source": [
    "player.print_box_inventory()"
   ]
  },
  {
   "cell_type": "code",
   "execution_count": 14,
   "id": "a250f04c-bdcd-4491-ade2-96e87419026f",
   "metadata": {},
   "outputs": [],
   "source": [
    "player.open_box(player.box_inventory[0])"
   ]
  },
  {
   "cell_type": "code",
   "execution_count": 15,
   "id": "0a049932",
   "metadata": {},
   "outputs": [
    {
     "data": {
      "application/vnd.jupyter.widget-view+json": {
       "model_id": "3beb11f15459452389d47515bca4cbc0",
       "version_major": 2,
       "version_minor": 0
      },
      "text/plain": [
       "Output()"
      ]
     },
     "metadata": {},
     "output_type": "display_data"
    },
    {
     "data": {
      "text/html": [
       "<pre style=\"white-space:pre;overflow-x:auto;line-height:normal;font-family:Menlo,'DejaVu Sans Mono',consolas,'Courier New',monospace\"></pre>\n"
      ],
      "text/plain": []
     },
     "metadata": {},
     "output_type": "display_data"
    },
    {
     "name": "stdout",
     "output_type": "stream",
     "text": [
      " saved to savedata.dat\n"
     ]
    },
    {
     "data": {
      "text/html": [
       "<pre style=\"white-space:pre;overflow-x:auto;line-height:normal;font-family:Menlo,'DejaVu Sans Mono',consolas,'Courier New',monospace\"><span style=\"font-style: italic\">                             Simulation Data                             </span>\n",
       "┏━━━━━━━━━━━┳━━━━━━━━━━━━━━━━┳━━━━━━━━━━━━━━┳━━━━━━━━━━━━━━┳━━━━━━━━━━━━┓\n",
       "┃<span style=\"font-weight: bold\"> Iteration </span>┃<span style=\"font-weight: bold\"> Final Currency </span>┃<span style=\"font-weight: bold\"> Boxes Bought </span>┃<span style=\"font-weight: bold\"> Boxes Opened </span>┃<span style=\"font-weight: bold\"> Items Sold </span>┃\n",
       "┡━━━━━━━━━━━╇━━━━━━━━━━━━━━━━╇━━━━━━━━━━━━━━╇━━━━━━━━━━━━━━╇━━━━━━━━━━━━┩\n",
       "│ 0         │ 157            │ 10           │ 10           │ 16         │\n",
       "│ 1         │ 120            │ 11           │ 11           │ 11         │\n",
       "│ 2         │ 145            │ 11           │ 11           │ 11         │\n",
       "│ 3         │ 107            │ 14           │ 14           │ 14         │\n",
       "│ 4         │ 260            │ 10           │ 10           │ 10         │\n",
       "│ 5         │ 36801          │ 13           │ 13           │ 13         │\n",
       "│ 6         │ 800490         │ 257          │ 257          │ 257        │\n",
       "│ 7         │ 1572346        │ 1791         │ 1791         │ 1791       │\n",
       "│ 8         │ 1901272        │ 3333         │ 3333         │ 3333       │\n",
       "│ 9         │ 1911996        │ 3987         │ 3987         │ 3987       │\n",
       "└───────────┴────────────────┴──────────────┴──────────────┴────────────┘\n",
       "</pre>\n"
      ],
      "text/plain": [
       "\u001b[3m                             Simulation Data                             \u001b[0m\n",
       "┏━━━━━━━━━━━┳━━━━━━━━━━━━━━━━┳━━━━━━━━━━━━━━┳━━━━━━━━━━━━━━┳━━━━━━━━━━━━┓\n",
       "┃\u001b[1m \u001b[0m\u001b[1mIteration\u001b[0m\u001b[1m \u001b[0m┃\u001b[1m \u001b[0m\u001b[1mFinal Currency\u001b[0m\u001b[1m \u001b[0m┃\u001b[1m \u001b[0m\u001b[1mBoxes Bought\u001b[0m\u001b[1m \u001b[0m┃\u001b[1m \u001b[0m\u001b[1mBoxes Opened\u001b[0m\u001b[1m \u001b[0m┃\u001b[1m \u001b[0m\u001b[1mItems Sold\u001b[0m\u001b[1m \u001b[0m┃\n",
       "┡━━━━━━━━━━━╇━━━━━━━━━━━━━━━━╇━━━━━━━━━━━━━━╇━━━━━━━━━━━━━━╇━━━━━━━━━━━━┩\n",
       "│ 0         │ 157            │ 10           │ 10           │ 16         │\n",
       "│ 1         │ 120            │ 11           │ 11           │ 11         │\n",
       "│ 2         │ 145            │ 11           │ 11           │ 11         │\n",
       "│ 3         │ 107            │ 14           │ 14           │ 14         │\n",
       "│ 4         │ 260            │ 10           │ 10           │ 10         │\n",
       "│ 5         │ 36801          │ 13           │ 13           │ 13         │\n",
       "│ 6         │ 800490         │ 257          │ 257          │ 257        │\n",
       "│ 7         │ 1572346        │ 1791         │ 1791         │ 1791       │\n",
       "│ 8         │ 1901272        │ 3333         │ 3333         │ 3333       │\n",
       "│ 9         │ 1911996        │ 3987         │ 3987         │ 3987       │\n",
       "└───────────┴────────────────┴──────────────┴──────────────┴────────────┘\n"
      ]
     },
     "metadata": {},
     "output_type": "display_data"
    },
    {
     "name": "stdout",
     "output_type": "stream",
     "text": [
      "0.2\n"
     ]
    },
    {
     "data": {
      "image/png": "[encoded data removed]",
      "text/plain": [
       "<Figure size 640x480 with 1 Axes>"
      ]
     },
     "metadata": {},
     "output_type": "display_data"
    }
   ],
   "source": [
    "simulate(player, 10)"
   ]
  },
  {
   "cell_type": "code",
   "execution_count": null,
   "id": "c479e6e1-37bf-4e9b-95df-62d5c4657c19",
   "metadata": {},
   "outputs": [],
   "source": []
  }
 ],
 "metadata": {
  "kernelspec": {
   "display_name": "Python 3 (ipykernel)",
   "language": "python",
   "name": "python3"
  },
  "language_info": {
   "codemirror_mode": {
    "name": "ipython",
    "version": 3
   },
   "file_extension": ".py",
   "mimetype": "text/x-python",
   "name": "python",
   "nbconvert_exporter": "python",
   "pygments_lexer": "ipython3",
   "version": "3.11.9"
  }
 },
 "nbformat": 4,
 "nbformat_minor": 5
}
